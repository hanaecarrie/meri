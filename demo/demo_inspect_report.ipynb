{
 "cells": [
  {
   "cell_type": "markdown",
   "metadata": {},
   "source": [
    "## DEMO:\n",
    "obj: Mini demo to launch a studies with multiple parameters..."
   ]
  },
  {
   "cell_type": "code",
   "execution_count": 4,
   "metadata": {},
   "outputs": [],
   "source": [
    "# coding: utf-8\n",
    "# system import\n",
    "import pickle\n",
    "import numpy as np\n",
    "import os.path as osp\n",
    "import scipy.fftpack as pfft\n",
    "from pprint import pprint\n",
    "\n",
    "# module import\n",
    "from meri.metric import compute_ssim, compute_snr, compute_psnr, compute_nrmse\n",
    "from meri.grid_search import grid_search\n",
    "import pisap\n",
    "from pisap.base.utils import l2_normalize, convert_mask_to_locations\n",
    "from pisap.numerics.gradient import Grad2DAnalyse\n",
    "from pisap.numerics.fourier import FFT\n",
    "from pisap.numerics.linears import *\n",
    "from pisap.numerics.reconstruct import sparse_rec_fista"
   ]
  },
  {
   "cell_type": "markdown",
   "metadata": {},
   "source": [
    "### Load and preprocess the image to reconstruct:"
   ]
  },
  {
   "cell_type": "code",
   "execution_count": 5,
   "metadata": {
    "collapsed": true
   },
   "outputs": [],
   "source": [
    "impath = \"M31_128.fits\"\n",
    "im = pisap.io.load(impath).data.astype('float64')\n",
    "maskfile = \"mask25_sig40.fits\"\n",
    "maskpath = \"mask25_sig40.fits\"\n",
    "mask = pisap.io.load(maskpath).data\n",
    "imfft = pfft.fft2(im)\n",
    "dirty_im = pfft.ifft2(imfft)"
   ]
  },
  {
   "cell_type": "markdown",
   "metadata": {},
   "source": [
    "### Declare the parameters:"
   ]
  },
  {
   "cell_type": "code",
   "execution_count": 6,
   "metadata": {},
   "outputs": [
    {
     "name": "stdout",
     "output_type": "stream",
     "text": [
      "{'data': array([[ 373.85763741  +0.j        , -281.61535147 +31.54498208j,\n",
      "         134.31091044 -52.66783129j, ...,  -59.70542242 -17.39332953j,\n",
      "         134.31091044 +52.66783129j, -281.61535147 -31.54498208j],\n",
      "       [-217.83774541+187.43616597j,  143.94249233-174.64818511j,\n",
      "         -69.71641148+122.9013679j , ...,   34.38468778 -40.77715704j,\n",
      "         -68.06646021 +88.03717727j,  172.50048014-162.75140087j],\n",
      "       [  -9.49499651-156.68525062j,   13.26131491+130.16628935j,\n",
      "          10.95580187 -77.2631067j , ...,    5.22450331 +23.99141585j,\n",
      "         -33.15696347-102.5408075j ,   12.36127455+161.55459253j],\n",
      "       ..., \n",
      "       [  53.00851145 -47.83522715j,  -36.59426213 +48.94657823j,\n",
      "          13.96686551 -29.77100384j, ...,    3.24409458 +30.26874116j,\n",
      "         -11.77198246 -45.46551581j,  -24.54364454 +56.80855794j],\n",
      "       [  -9.49499651+156.68525062j,   12.36127455-161.55459253j,\n",
      "         -33.15696347+102.5408075j , ...,  -12.05121362 -22.18889378j,\n",
      "          10.95580187 +77.2631067j ,   13.26131491-130.16628935j],\n",
      "       [-217.83774541-187.43616597j,  172.50048014+162.75140087j,\n",
      "         -68.06646021 -88.03717727j, ...,   31.70366504 +39.62450916j,\n",
      "         -69.71641148-122.9013679j ,  143.94249233+174.64818511j]]),\n",
      " 'gradient_cls': <class 'pisap.numerics.gradient.Grad2DAnalyse'>,\n",
      " 'gradient_kwargs': {'ft_cls': <pisap.numerics.fourier.FFT object at 0x7f2c0d587cd0>},\n",
      " 'linear_cls': [<class 'pisap.numerics.linears.MallatWaveletTransform7_9Filters'>,\n",
      "                <class 'pisap.numerics.linears.MeyerWaveletsCompactInFourierSpace'>],\n",
      " 'linear_kwargs': [{'maxscale': 3},\n",
      "                   {'maxscale': 4},\n",
      "                   {'maxscale': 5},\n",
      "                   {'maxscale': 6}],\n",
      " 'max_nb_of_iter': 25,\n",
      " 'mu': [5e-07, 1e-06, 2e-06, 3e-06, 5e-06],\n",
      " 'report': False,\n",
      " 'verbose': 0}\n"
     ]
    }
   ],
   "source": [
    "ft_cls = FFT(convert_mask_to_locations(pfft.ifftshift(mask)), im.shape[0])\n",
    "list_params = {\n",
    "    'data':imfft,\n",
    "    'gradient_cls':Grad2DAnalyse,\n",
    "    'gradient_kwargs':{\"ft_cls\": ft_cls},\n",
    "    'linear_cls': [MallatWaveletTransform7_9Filters, MeyerWaveletsCompactInFourierSpace],\n",
    "    'linear_kwargs':[{\"maxscale\": 3}, {\"maxscale\": 4}, {\"maxscale\": 5}, {\"maxscale\": 6},],\n",
    "    'max_nb_of_iter': 25,\n",
    "    'mu': [5.0e-7, 1.0e-6, 2.0e-6, 3.0e-6, 5.0e-6],\n",
    "    'verbose':0,\n",
    "    'report':False,\n",
    "}\n",
    "metrics = [compute_ssim, compute_snr, compute_psnr, compute_nrmse]\n",
    "metrics_direction= [False, False, False, True]\n",
    "\n",
    "pprint(list_params)"
   ]
  },
  {
   "cell_type": "markdown",
   "metadata": {},
   "source": [
    "### Create the report:"
   ]
  },
  {
   "cell_type": "code",
   "execution_count": 7,
   "metadata": {},
   "outputs": [
    {
     "name": "stdout",
     "output_type": "stream",
     "text": [
      "Running the grid_search...\n",
      "Running 4 metrics for 40 candidates, totalling 40 reconstruction and 160 metrics computations\n"
     ]
    },
    {
     "name": "stderr",
     "output_type": "stream",
     "text": [
      "/home/hc252523/COSMIC/src/pisap/pisap/base/dictionary.py:540: ComplexWarning: Casting complex values to real discards the imaginary part\n",
      "  data = self._data.reshape(self.native_image_shape).astype(float)\n",
      "/home/hc252523/COSMIC/src/pisap/pisap/base/dictionary.py:540: ComplexWarning: Casting complex values to real discards the imaginary part\n",
      "  data = self._data.reshape(self.native_image_shape).astype(float)\n",
      "/home/hc252523/COSMIC/src/pisap/pisap/base/dictionary.py:540: ComplexWarning: Casting complex values to real discards the imaginary part\n",
      "  data = self._data.reshape(self.native_image_shape).astype(float)\n",
      "/home/hc252523/COSMIC/src/pisap/pisap/base/dictionary.py:540: ComplexWarning: Casting complex values to real discards the imaginary part\n",
      "  data = self._data.reshape(self.native_image_shape).astype(float)\n",
      "/home/hc252523/COSMIC/src/pisap/pisap/base/dictionary.py:540: ComplexWarning: Casting complex values to real discards the imaginary part\n",
      "  data = self._data.reshape(self.native_image_shape).astype(float)\n",
      "/home/hc252523/COSMIC/src/pisap/pisap/base/dictionary.py:540: ComplexWarning: Casting complex values to real discards the imaginary part\n",
      "  data = self._data.reshape(self.native_image_shape).astype(float)\n",
      "/home/hc252523/COSMIC/src/pisap/pisap/base/dictionary.py:540: ComplexWarning: Casting complex values to real discards the imaginary part\n",
      "  data = self._data.reshape(self.native_image_shape).astype(float)\n",
      "/home/hc252523/COSMIC/src/pisap/pisap/base/dictionary.py:540: ComplexWarning: Casting complex values to real discards the imaginary part\n",
      "  data = self._data.reshape(self.native_image_shape).astype(float)\n",
      "/home/hc252523/COSMIC/src/pisap/pisap/base/dictionary.py:585: ComplexWarning: Casting complex values to real discards the imaginary part\n",
      "  return pisap.Image(data=self._synthesis(cube.astype(float)),\n",
      "/home/hc252523/COSMIC/src/pisap/pisap/base/dictionary.py:585: ComplexWarning: Casting complex values to real discards the imaginary part\n",
      "  return pisap.Image(data=self._synthesis(cube.astype(float)),\n",
      "/home/hc252523/COSMIC/src/pisap/pisap/base/dictionary.py:585: ComplexWarning: Casting complex values to real discards the imaginary part\n",
      "  return pisap.Image(data=self._synthesis(cube.astype(float)),\n",
      "/home/hc252523/COSMIC/src/pisap/pisap/base/dictionary.py:585: ComplexWarning: Casting complex values to real discards the imaginary part\n",
      "  return pisap.Image(data=self._synthesis(cube.astype(float)),\n",
      "/usr/local/lib/python2.7/dist-packages/pyfits/hdu/image.py:515: VerifyWarning: Invalid 'BLANK' keyword in header.  The 'BLANK' keyword is only applicable to integer data, and will be ignored in this HDU.\n",
      "  warnings.warn(msg, VerifyWarning)\n",
      "/home/hc252523/COSMIC/src/pisap/pisap/base/dictionary.py:585: ComplexWarning: Casting complex values to real discards the imaginary part\n",
      "  return pisap.Image(data=self._synthesis(cube.astype(float)),\n",
      "/usr/local/lib/python2.7/dist-packages/pyfits/hdu/image.py:515: VerifyWarning: Invalid 'BLANK' keyword in header.  The 'BLANK' keyword is only applicable to integer data, and will be ignored in this HDU.\n",
      "  warnings.warn(msg, VerifyWarning)\n",
      "/home/hc252523/COSMIC/src/pisap/pisap/base/dictionary.py:585: ComplexWarning: Casting complex values to real discards the imaginary part\n",
      "  return pisap.Image(data=self._synthesis(cube.astype(float)),\n",
      "/usr/local/lib/python2.7/dist-packages/pyfits/hdu/image.py:515: VerifyWarning: Invalid 'BLANK' keyword in header.  The 'BLANK' keyword is only applicable to integer data, and will be ignored in this HDU.\n",
      "  warnings.warn(msg, VerifyWarning)\n",
      "/home/hc252523/COSMIC/src/pisap/pisap/base/dictionary.py:585: ComplexWarning: Casting complex values to real discards the imaginary part\n",
      "  return pisap.Image(data=self._synthesis(cube.astype(float)),\n",
      "/usr/local/lib/python2.7/dist-packages/pyfits/hdu/image.py:515: VerifyWarning: Invalid 'BLANK' keyword in header.  The 'BLANK' keyword is only applicable to integer data, and will be ignored in this HDU.\n",
      "  warnings.warn(msg, VerifyWarning)\n",
      "/home/hc252523/COSMIC/src/pisap/pisap/base/dictionary.py:585: ComplexWarning: Casting complex values to real discards the imaginary part\n",
      "  return pisap.Image(data=self._synthesis(cube.astype(float)),\n",
      "[Parallel(n_jobs=-1)]: Done   2 tasks      | elapsed:   23.4s\n",
      "/usr/local/lib/python2.7/dist-packages/pyfits/hdu/image.py:515: VerifyWarning: Invalid 'BLANK' keyword in header.  The 'BLANK' keyword is only applicable to integer data, and will be ignored in this HDU.\n",
      "  warnings.warn(msg, VerifyWarning)\n",
      "/usr/local/lib/python2.7/dist-packages/pyfits/hdu/image.py:515: VerifyWarning: Invalid 'BLANK' keyword in header.  The 'BLANK' keyword is only applicable to integer data, and will be ignored in this HDU.\n",
      "  warnings.warn(msg, VerifyWarning)\n",
      "/usr/local/lib/python2.7/dist-packages/pyfits/hdu/image.py:515: VerifyWarning: Invalid 'BLANK' keyword in header.  The 'BLANK' keyword is only applicable to integer data, and will be ignored in this HDU.\n",
      "  warnings.warn(msg, VerifyWarning)\n",
      "/usr/local/lib/python2.7/dist-packages/pyfits/hdu/image.py:515: VerifyWarning: Invalid 'BLANK' keyword in header.  The 'BLANK' keyword is only applicable to integer data, and will be ignored in this HDU.\n",
      "  warnings.warn(msg, VerifyWarning)\n",
      "[Parallel(n_jobs=-1)]: Done  34 out of  40 | elapsed:  3.5min remaining:   37.4s\n",
      "[Parallel(n_jobs=-1)]: Done  40 out of  40 | elapsed:  4.2min finished\n",
      "[Parallel(n_jobs=-1)]: Done   2 tasks      | elapsed:    0.4s\n",
      "[Parallel(n_jobs=-1)]: Done  34 out of  40 | elapsed:    5.0s remaining:    0.9s\n",
      "[Parallel(n_jobs=-1)]: Done  40 out of  40 | elapsed:    5.3s finished\n"
     ]
    }
   ],
   "source": [
    "print(\"Running the grid_search...\")\n",
    "report = grid_search(sparse_rec_fista, list_params, metrics, metrics_direction,\n",
    "                     im, n_jobs=-1, verbose=5)"
   ]
  },
  {
   "cell_type": "markdown",
   "metadata": {},
   "source": [
    "### Save the report:"
   ]
  },
  {
   "cell_type": "code",
   "execution_count": 8,
   "metadata": {},
   "outputs": [
    {
     "name": "stdout",
     "output_type": "stream",
     "text": [
      "Inspect the generated pickle file report.pkl to see the corresponding parameters...\n",
      "Pickeling the report class in 'report.pkl'...\n"
     ]
    }
   ],
   "source": [
    "filename = \"report.pkl\"\n",
    "print(\"Inspect the generated pickle file {0}\"\n",
    "                    \" to see the corresponding parameters...\".format(filename))\n",
    "print(\"Pickeling the report class in '{0}'...\".format(filename))\n",
    "with open(filename, 'w') as pfile:\n",
    "    pickle.dump(report, pfile)"
   ]
  }
 ],
 "metadata": {
  "kernelspec": {
   "display_name": "Python 2",
   "language": "python",
   "name": "python2"
  },
  "language_info": {
   "codemirror_mode": {
    "name": "ipython",
    "version": 2
   },
   "file_extension": ".py",
   "mimetype": "text/x-python",
   "name": "python",
   "nbconvert_exporter": "python",
   "pygments_lexer": "ipython2",
   "version": "2.7.12"
  }
 },
 "nbformat": 4,
 "nbformat_minor": 2
}
