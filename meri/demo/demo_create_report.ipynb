{
 "cells": [
  {
   "cell_type": "markdown",
   "metadata": {},
   "source": [
    "## DEMO:\n",
    "obj: Mini demo to inspect a studies with multiple parameters..."
   ]
  },
  {
   "cell_type": "code",
   "execution_count": 11,
   "metadata": {
    "collapsed": true
   },
   "outputs": [],
   "source": [
    "# coding: utf-8\n",
    "import pickle\n",
    "from pprint import pformat\n",
    "import numpy as np\n",
    "\n",
    "np.set_printoptions(precision=4)\n",
    "np.set_printoptions(edgeitems=1)"
   ]
  },
  {
   "cell_type": "markdown",
   "metadata": {},
   "source": [
    "### Load the report"
   ]
  },
  {
   "cell_type": "code",
   "execution_count": 12,
   "metadata": {},
   "outputs": [],
   "source": [
    "with open(\"report.pkl\", 'r') as pfile:\n",
    "    report = pickle.load(pfile)"
   ]
  },
  {
   "cell_type": "markdown",
   "metadata": {},
   "source": [
    "### Inspect the report on all the floatting parameters"
   ]
  },
  {
   "cell_type": "code",
   "execution_count": 13,
   "metadata": {},
   "outputs": [
    {
     "name": "stdout",
     "output_type": "stream",
     "text": [
      "Unconstraint\n",
      "----------\n",
      " - total of 40 studies\n",
      " - fixed parameters are : ['gradient_kwargs', 'verbose', 'report', 'max_nb_of_iter', 'data', 'gradient_cls']\n",
      " - floatting parameters are : ['mu', 'linear_cls', 'linear_kwargs']\n",
      "   -- 'mu' takes values [5e-07, 1e-06, 2e-06, 3e-06, 5e-06]\n",
      "   -- 'linear_cls' takes values [<class 'pisap.numerics.linears.MallatWaveletTransform7_9Filters'>, <class 'pisap.numerics.linears.MeyerWaveletsCompactInFourierSpace'>]\n",
      "   -- 'linear_kwargs' takes values [{'maxscale': 3}, {'maxscale': 4}, {'maxscale': 5}, {'maxscale': 6}]\n",
      " - best score for compute_ssim is 0.845118440137obtained with parameters #38\n",
      " - {'data': array([[ 373.8576  +0.j    , ..., -281.6154 -31.545j ],\n",
      "       ..., \n",
      "       [-217.8377-187.4362j, ...,  143.9425+174.6482j]]),\n",
      " 'gradient_cls': <class 'pisap.numerics.gradient.Grad2DAnalyse'>,\n",
      " 'gradient_kwargs': {'ft_cls': <pisap.numerics.fourier.FFT object at 0x7f71a1b88e90>},\n",
      " 'linear_cls': <class 'pisap.numerics.linears.MeyerWaveletsCompactInFourierSpace'>,\n",
      " 'linear_kwargs': {'maxscale': 5},\n",
      " 'max_nb_of_iter': 25,\n",
      " 'mu': 5e-06,\n",
      " 'report': False,\n",
      " 'verbose': 0}\n",
      " - best score for compute_snr is 3.79423700418obtained with parameters #36\n",
      " - {'data': array([[ 373.8576  +0.j    , ..., -281.6154 -31.545j ],\n",
      "       ..., \n",
      "       [-217.8377-187.4362j, ...,  143.9425+174.6482j]]),\n",
      " 'gradient_cls': <class 'pisap.numerics.gradient.Grad2DAnalyse'>,\n",
      " 'gradient_kwargs': {'ft_cls': <pisap.numerics.fourier.FFT object at 0x7f71a1b88e90>},\n",
      " 'linear_cls': <class 'pisap.numerics.linears.MeyerWaveletsCompactInFourierSpace'>,\n",
      " 'linear_kwargs': {'maxscale': 3},\n",
      " 'max_nb_of_iter': 25,\n",
      " 'mu': 5e-06,\n",
      " 'report': False,\n",
      " 'verbose': 0}\n",
      " - best score for compute_psnr is -20.3633761018obtained with parameters #36\n",
      " - {'data': array([[ 373.8576  +0.j    , ..., -281.6154 -31.545j ],\n",
      "       ..., \n",
      "       [-217.8377-187.4362j, ...,  143.9425+174.6482j]]),\n",
      " 'gradient_cls': <class 'pisap.numerics.gradient.Grad2DAnalyse'>,\n",
      " 'gradient_kwargs': {'ft_cls': <pisap.numerics.fourier.FFT object at 0x7f71a1b88e90>},\n",
      " 'linear_cls': <class 'pisap.numerics.linears.MeyerWaveletsCompactInFourierSpace'>,\n",
      " 'linear_kwargs': {'maxscale': 3},\n",
      " 'max_nb_of_iter': 25,\n",
      " 'mu': 5e-06,\n",
      " 'report': False,\n",
      " 'verbose': 0}\n",
      " - best score for compute_nrmse is 1.04951613061obtained with parameters #36\n",
      " - {'data': array([[ 373.8576  +0.j    , ..., -281.6154 -31.545j ],\n",
      "       ..., \n",
      "       [-217.8377-187.4362j, ...,  143.9425+174.6482j]]),\n",
      " 'gradient_cls': <class 'pisap.numerics.gradient.Grad2DAnalyse'>,\n",
      " 'gradient_kwargs': {'ft_cls': <pisap.numerics.fourier.FFT object at 0x7f71a1b88e90>},\n",
      " 'linear_cls': <class 'pisap.numerics.linears.MeyerWaveletsCompactInFourierSpace'>,\n",
      " 'linear_kwargs': {'maxscale': 3},\n",
      " 'max_nb_of_iter': 25,\n",
      " 'mu': 5e-06,\n",
      " 'report': False,\n",
      " 'verbose': 0}\n"
     ]
    }
   ],
   "source": [
    "print(\"Unconstraint\")\n",
    "print(\"-\" * 10)\n",
    "\n",
    "print(\" - total of {0} studies\".format(len(report.recons_im)))\n",
    "print(\" - fixed parameters are : {0}\".format(report.fixed_params))\n",
    "print(\" - floatting parameters are : {0}\".format(report.floatting_params))\n",
    "for param in report.floatting_params:\n",
    "    print(\"   -- '{0}' takes values {1}\".format(param,\n",
    "                                                report.get_list_params(param)))\n",
    "\n",
    "for metric in report.metrics_funcs:\n",
    "    print(\" - best score for {0} is {1}\"\n",
    "          \"obtained with parameters #{2}\".format(metric.func_name,\n",
    "                                                 report.best_score(metric),\n",
    "                                                 report.best_index(metric)))\n",
    "    print(\" - {0}\".format(pformat(report.best_params(metric))))"
   ]
  },
  {
   "cell_type": "markdown",
   "metadata": {},
   "source": [
    "### Inspect the report on a subset of the floatting parameters"
   ]
  },
  {
   "cell_type": "code",
   "execution_count": 14,
   "metadata": {},
   "outputs": [
    {
     "name": "stdout",
     "output_type": "stream",
     "text": [
      "Constraint #1\n",
      "----------\n",
      "Now we fix those floatting parameters:\n",
      "  -- {'mu': [5e-07], 'linear_cls': [<class 'pisap.numerics.linears.MallatWaveletTransform7_9Filters'>]}\n",
      "The remaning floatting parameters is:\n",
      "  -- {'linear_kwargs': [{'maxscale': 3}, {'maxscale': 4}, {'maxscale': 5}, {'maxscale': 6}]}\n",
      " - best score for compute_ssim is 0.843020282712 obtained with:\n",
      " - {'data': array([[ 373.8576  +0.j    , ..., -281.6154 -31.545j ],\n",
      "       ..., \n",
      "       [-217.8377-187.4362j, ...,  143.9425+174.6482j]]),\n",
      " 'gradient_cls': <class 'pisap.numerics.gradient.Grad2DAnalyse'>,\n",
      " 'gradient_kwargs': {'ft_cls': <pisap.numerics.fourier.FFT object at 0x7f71a1b88e90>},\n",
      " 'linear_cls': <class 'pisap.numerics.linears.MallatWaveletTransform7_9Filters'>,\n",
      " 'linear_kwargs': {'maxscale': 6},\n",
      " 'max_nb_of_iter': 25,\n",
      " 'mu': 5e-07,\n",
      " 'report': False,\n",
      " 'verbose': 0}\n",
      " - best score for compute_snr is 3.76868549896 obtained with:\n",
      " - {'data': array([[ 373.8576  +0.j    , ..., -281.6154 -31.545j ],\n",
      "       ..., \n",
      "       [-217.8377-187.4362j, ...,  143.9425+174.6482j]]),\n",
      " 'gradient_cls': <class 'pisap.numerics.gradient.Grad2DAnalyse'>,\n",
      " 'gradient_kwargs': {'ft_cls': <pisap.numerics.fourier.FFT object at 0x7f71a1b88e90>},\n",
      " 'linear_cls': <class 'pisap.numerics.linears.MallatWaveletTransform7_9Filters'>,\n",
      " 'linear_kwargs': {'maxscale': 3},\n",
      " 'max_nb_of_iter': 25,\n",
      " 'mu': 5e-07,\n",
      " 'report': False,\n",
      " 'verbose': 0}\n",
      " - best score for compute_psnr is -20.4469303115 obtained with:\n",
      " - {'data': array([[ 373.8576  +0.j    , ..., -281.6154 -31.545j ],\n",
      "       ..., \n",
      "       [-217.8377-187.4362j, ...,  143.9425+174.6482j]]),\n",
      " 'gradient_cls': <class 'pisap.numerics.gradient.Grad2DAnalyse'>,\n",
      " 'gradient_kwargs': {'ft_cls': <pisap.numerics.fourier.FFT object at 0x7f71a1b88e90>},\n",
      " 'linear_cls': <class 'pisap.numerics.linears.MallatWaveletTransform7_9Filters'>,\n",
      " 'linear_kwargs': {'maxscale': 3},\n",
      " 'max_nb_of_iter': 25,\n",
      " 'mu': 5e-07,\n",
      " 'report': False,\n",
      " 'verbose': 0}\n",
      " - best score for compute_nrmse is 1.05966070139 obtained with:\n",
      " - {'data': array([[ 373.8576  +0.j    , ..., -281.6154 -31.545j ],\n",
      "       ..., \n",
      "       [-217.8377-187.4362j, ...,  143.9425+174.6482j]]),\n",
      " 'gradient_cls': <class 'pisap.numerics.gradient.Grad2DAnalyse'>,\n",
      " 'gradient_kwargs': {'ft_cls': <pisap.numerics.fourier.FFT object at 0x7f71a1b88e90>},\n",
      " 'linear_cls': <class 'pisap.numerics.linears.MallatWaveletTransform7_9Filters'>,\n",
      " 'linear_kwargs': {'maxscale': 3},\n",
      " 'max_nb_of_iter': 25,\n",
      " 'mu': 5e-07,\n",
      " 'report': False,\n",
      " 'verbose': 0}\n"
     ]
    }
   ],
   "source": [
    "print(\"Constraint #1\")\n",
    "print(\"-\" * 10)\n",
    "\n",
    "print(\"Now we fix those floatting parameters:\")\n",
    "key_fixed = report.floatting_params[:-1]\n",
    "values_fixed = [[report.get_list_params(param)[0]]\n",
    "                                     for param in report.floatting_params[:-1]]\n",
    "filter_ = dict(zip(key_fixed, values_fixed))\n",
    "print(\"  -- {0}\".format(filter_))\n",
    "print(\"The remaning floatting parameters is:\")\n",
    "key_floatting = report.floatting_params[-1]\n",
    "values_floatting = report.get_list_params(report.floatting_params[-1])\n",
    "print(\"  -- {0}\".format({key_floatting:values_floatting}))\n",
    "\n",
    "for metric in report.metrics_funcs:\n",
    "    print(\" - best score for \"\n",
    "          \"{0} is {1} obtained with:\".format(metric.func_name,\n",
    "                                             report.best_score(metric, filter_)))\n",
    "    print(\" - {0}\".format(pformat(report.best_params(metric, filter_))))"
   ]
  },
  {
   "cell_type": "markdown",
   "metadata": {},
   "source": [
    "### Inspect the report on a n other subset of floatting parameters"
   ]
  },
  {
   "cell_type": "code",
   "execution_count": 15,
   "metadata": {},
   "outputs": [
    {
     "name": "stdout",
     "output_type": "stream",
     "text": [
      "Constraint #2\n",
      "----------\n",
      "Now we fix those floatting parameters:\n",
      "  -- {'linear_cls': [<class 'pisap.numerics.linears.MallatWaveletTransform7_9Filters'>], 'linear_kwargs': [{'maxscale': 3}]}\n",
      "The remaning floatting parameters is:\n",
      "  -- {'mu': [5e-07, 1e-06, 2e-06, 3e-06, 5e-06]}\n",
      " - best score for compute_ssim is 0.844769160888 obtained with:\n",
      " - {'data': array([[ 373.8576  +0.j    , ..., -281.6154 -31.545j ],\n",
      "       ..., \n",
      "       [-217.8377-187.4362j, ...,  143.9425+174.6482j]]),\n",
      " 'gradient_cls': <class 'pisap.numerics.gradient.Grad2DAnalyse'>,\n",
      " 'gradient_kwargs': {'ft_cls': <pisap.numerics.fourier.FFT object at 0x7f71a1b88e90>},\n",
      " 'linear_cls': <class 'pisap.numerics.linears.MeyerWaveletsCompactInFourierSpace'>,\n",
      " 'linear_kwargs': {'maxscale': 3},\n",
      " 'max_nb_of_iter': 25,\n",
      " 'mu': 5e-07,\n",
      " 'report': False,\n",
      " 'verbose': 0}\n",
      " - best score for compute_snr is 3.79159565917 obtained with:\n",
      " - {'data': array([[ 373.8576  +0.j    , ..., -281.6154 -31.545j ],\n",
      "       ..., \n",
      "       [-217.8377-187.4362j, ...,  143.9425+174.6482j]]),\n",
      " 'gradient_cls': <class 'pisap.numerics.gradient.Grad2DAnalyse'>,\n",
      " 'gradient_kwargs': {'ft_cls': <pisap.numerics.fourier.FFT object at 0x7f71a1b88e90>},\n",
      " 'linear_cls': <class 'pisap.numerics.linears.MeyerWaveletsCompactInFourierSpace'>,\n",
      " 'linear_kwargs': {'maxscale': 3},\n",
      " 'max_nb_of_iter': 25,\n",
      " 'mu': 5e-07,\n",
      " 'report': False,\n",
      " 'verbose': 0}\n",
      " - best score for compute_psnr is -20.3663266298 obtained with:\n",
      " - {'data': array([[ 373.8576  +0.j    , ..., -281.6154 -31.545j ],\n",
      "       ..., \n",
      "       [-217.8377-187.4362j, ...,  143.9425+174.6482j]]),\n",
      " 'gradient_cls': <class 'pisap.numerics.gradient.Grad2DAnalyse'>,\n",
      " 'gradient_kwargs': {'ft_cls': <pisap.numerics.fourier.FFT object at 0x7f71a1b88e90>},\n",
      " 'linear_cls': <class 'pisap.numerics.linears.MeyerWaveletsCompactInFourierSpace'>,\n",
      " 'linear_kwargs': {'maxscale': 3},\n",
      " 'max_nb_of_iter': 25,\n",
      " 'mu': 5e-07,\n",
      " 'report': False,\n",
      " 'verbose': 0}\n",
      " - best score for compute_nrmse is 1.0498727035 obtained with:\n",
      " - {'data': array([[ 373.8576  +0.j    , ..., -281.6154 -31.545j ],\n",
      "       ..., \n",
      "       [-217.8377-187.4362j, ...,  143.9425+174.6482j]]),\n",
      " 'gradient_cls': <class 'pisap.numerics.gradient.Grad2DAnalyse'>,\n",
      " 'gradient_kwargs': {'ft_cls': <pisap.numerics.fourier.FFT object at 0x7f71a1b88e90>},\n",
      " 'linear_cls': <class 'pisap.numerics.linears.MeyerWaveletsCompactInFourierSpace'>,\n",
      " 'linear_kwargs': {'maxscale': 3},\n",
      " 'max_nb_of_iter': 25,\n",
      " 'mu': 5e-07,\n",
      " 'report': False,\n",
      " 'verbose': 0}\n"
     ]
    }
   ],
   "source": [
    "print(\"Constraint #2\")\n",
    "print(\"-\" * 10)\n",
    "\n",
    "print(\"Now we fix those floatting parameters:\")\n",
    "key_fixed = report.floatting_params[1:]\n",
    "values_fixed = [[report.get_list_params(param)[0]]\n",
    "                                      for param in report.floatting_params[1:]]\n",
    "filter_ = dict(zip(key_fixed, values_fixed))\n",
    "print(\"  -- {0}\".format(filter_))\n",
    "print(\"The remaning floatting parameters is:\")\n",
    "key_floatting = report.floatting_params[0]\n",
    "values_floatting = report.get_list_params(report.floatting_params[0])\n",
    "print(\"  -- {0}\".format({key_floatting:values_floatting}))\n",
    "\n",
    "for metric in report.metrics_funcs:\n",
    "    print(\" - best score for \"\n",
    "          \"{0} is {1} obtained with:\".format(metric.func_name,\n",
    "                                             report.best_score(metric, filter_)))\n",
    "    print(\" - {0}\".format(pformat(report.best_params(metric, filter_))))"
   ]
  }
 ],
 "metadata": {
  "kernelspec": {
   "display_name": "Python 2",
   "language": "python",
   "name": "python2"
  },
  "language_info": {
   "codemirror_mode": {
    "name": "ipython",
    "version": 2
   },
   "file_extension": ".py",
   "mimetype": "text/x-python",
   "name": "python",
   "nbconvert_exporter": "python",
   "pygments_lexer": "ipython2",
   "version": "2.7.12"
  }
 },
 "nbformat": 4,
 "nbformat_minor": 2
}
